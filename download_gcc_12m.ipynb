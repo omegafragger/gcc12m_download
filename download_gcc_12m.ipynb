{
 "cells": [
  {
   "cell_type": "code",
   "execution_count": 3,
   "id": "906ad6b2",
   "metadata": {},
   "outputs": [
    {
     "name": "stderr",
     "output_type": "stream",
     "text": [
      "12423374it [00:39, 313194.28it/s]\n"
     ]
    }
   ],
   "source": [
    "# Load the cc12m file\n",
    "\n",
    "import csv\n",
    "from tqdm import tqdm\n",
    "\n",
    "cc12m_dict = {}\n",
    "\n",
    "with open(\"cc12m.tsv\") as file:\n",
    "    tsv_file = csv.reader(file, delimiter=\"\\t\")\n",
    "\n",
    "    for i, line in tqdm(enumerate(tsv_file)):\n",
    "        cc12m_dict[i] = line"
   ]
  },
  {
   "cell_type": "code",
   "execution_count": 4,
   "id": "e43a8ca8",
   "metadata": {},
   "outputs": [],
   "source": [
    "num_processes = 100\n",
    "num_samples_per_process = 100\n",
    "\n",
    "width = 10000\n",
    "start_idx = 0\n",
    "end_idx = start_idx + (num_processes * num_samples_per_process - 1)"
   ]
  },
  {
   "cell_type": "code",
   "execution_count": 5,
   "id": "0a85cb4c",
   "metadata": {},
   "outputs": [
    {
     "name": "stdout",
     "output_type": "stream",
     "text": [
      "0\n",
      "9999\n"
     ]
    }
   ],
   "source": [
    "print (start_idx)\n",
    "print (end_idx)"
   ]
  },
  {
   "cell_type": "code",
   "execution_count": 6,
   "id": "7cc88b00",
   "metadata": {},
   "outputs": [],
   "source": [
    "import requests\n",
    "import multiprocessing as mp\n",
    "from multiprocessing import Process, Manager\n",
    "\n",
    "\n",
    "def download_one_record(record_meta_data, record_id, res_dict):\n",
    "    '''\n",
    "    record_meta_data: contains the link and the text description of the image for the link\n",
    "    record_id: record id will be the image id of the stored image\n",
    "    '''\n",
    "    \n",
    "    link = record_meta_data[0]\n",
    "    image_desc = record_meta_data[1]\n",
    "    \n",
    "    try:\n",
    "        img_data = requests.get(link, timeout=10).content\n",
    "        with open(f'image_{record_id}.jpg', 'wb') as handler:\n",
    "            handler.write(img_data)\n",
    "        res_dict[record_id] = 1\n",
    "    except:\n",
    "        res_dict[record_id] = 0\n",
    "    \n",
    "\n",
    "def download_records_1_process(meta_dict, start_idx, num_records, res_dict):\n",
    "    '''\n",
    "    meta_dict: dictionary of meta data\n",
    "    start_idx: start index of download\n",
    "    num_records: number of records to be downloaded\n",
    "    res_dict: result dictionary containing information of how many records were downloaded\n",
    "    '''\n",
    "    \n",
    "    for idx in range(start_idx, start_idx + num_records):\n",
    "        if idx in meta_dict.keys():\n",
    "            record_meta_data = meta_dict[idx]\n",
    "            download_one_record(record_meta_data, idx, res_dict)\n",
    "\n",
    "\n",
    "manager = Manager()\n",
    "shared_res_dict = manager.dict()\n",
    "\n",
    "def download_records_multi_process(meta_dict, start_idx, num_records_per_process, num_processes, res_dict):\n",
    "    '''\n",
    "    meta_dict: dictionary of meta data\n",
    "    start_idx: start index of download for all processes\n",
    "    num_records_per_process: number of records to be downloaded per process\n",
    "    num_processes: number of processes to be launched\n",
    "    res_dict: result dictionary containing information of which records were stored correctly\n",
    "    '''\n",
    "    moving_idx = start_idx\n",
    "    proc_list = []\n",
    "    \n",
    "    print ('Starting processes...')\n",
    "    for p in tqdm(range(num_processes)):\n",
    "        proc = Process(target=download_records_1_process, args=(meta_dict, moving_idx, num_records_per_process, res_dict))\n",
    "        moving_idx = moving_idx + num_records_per_process\n",
    "        proc.start()\n",
    "        proc_list.append(proc)\n",
    "    \n",
    "    print ('Joining processes...')\n",
    "    for proc in tqdm(proc_list):\n",
    "        proc.join()"
   ]
  },
  {
   "cell_type": "code",
   "execution_count": 7,
   "id": "2a0cf3e5",
   "metadata": {},
   "outputs": [
    {
     "name": "stdout",
     "output_type": "stream",
     "text": [
      "Starting processes...\n"
     ]
    },
    {
     "name": "stderr",
     "output_type": "stream",
     "text": [
      "100%|███████████████████████████████████████████████████████████████████████████████████████████████████████████████████████████████████████████████| 10/10 [00:00<00:00, 16.77it/s]\n"
     ]
    },
    {
     "name": "stdout",
     "output_type": "stream",
     "text": [
      "Joining processes...\n"
     ]
    },
    {
     "name": "stderr",
     "output_type": "stream",
     "text": [
      "100%|███████████████████████████████████████████████████████████████████████████████████████████████████████████████████████████████████████████████| 10/10 [04:57<00:00, 29.72s/it]\n"
     ]
    }
   ],
   "source": [
    "download_records_multi_process(cc12m_dict, 0, 100, 10, shared_res_dict)"
   ]
  },
  {
   "cell_type": "code",
   "execution_count": 10,
   "id": "504ae7b2",
   "metadata": {},
   "outputs": [
    {
     "name": "stdout",
     "output_type": "stream",
     "text": [
      "101\n",
      "120\n",
      "422\n",
      "16\n",
      "17\n",
      "918\n",
      "123\n",
      "923\n",
      "925\n",
      "847\n",
      "30\n",
      "739\n",
      "336\n",
      "227\n",
      "652\n",
      "932\n",
      "855\n",
      "562\n",
      "449\n",
      "42\n",
      "346\n",
      "663\n",
      "665\n",
      "572\n",
      "457\n",
      "458\n",
      "239\n",
      "773\n",
      "780\n",
      "887\n",
      "889\n",
      "975\n",
      "259\n",
      "491\n",
      "87\n",
      "983\n",
      "399\n",
      "88\n",
      "274\n",
      "285\n"
     ]
    }
   ],
   "source": [
    "for k in shared_res_dict.keys():\n",
    "    if shared_res_dict[k] == 0:\n",
    "        print (k)"
   ]
  },
  {
   "cell_type": "code",
   "execution_count": null,
   "id": "13a74d41",
   "metadata": {},
   "outputs": [],
   "source": []
  }
 ],
 "metadata": {
  "kernelspec": {
   "display_name": "Python 3 (ipykernel)",
   "language": "python",
   "name": "python3"
  },
  "language_info": {
   "codemirror_mode": {
    "name": "ipython",
    "version": 3
   },
   "file_extension": ".py",
   "mimetype": "text/x-python",
   "name": "python",
   "nbconvert_exporter": "python",
   "pygments_lexer": "ipython3",
   "version": "3.9.12"
  }
 },
 "nbformat": 4,
 "nbformat_minor": 5
}
